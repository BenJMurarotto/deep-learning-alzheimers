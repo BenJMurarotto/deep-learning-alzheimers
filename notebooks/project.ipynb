{
 "cells": [
  {
   "cell_type": "markdown",
   "id": "68837701",
   "metadata": {},
   "source": [
    "## Fundus imageset.\n",
    "Code to download the fundus retina images from kaggle."
   ]
  },
  {
   "cell_type": "code",
   "execution_count": 3,
   "id": "2afe9a41",
   "metadata": {},
   "outputs": [
    {
     "name": "stdout",
     "output_type": "stream",
     "text": [
      "Downloading from https://www.kaggle.com/api/v1/datasets/download/linchundan/fundusimage1000?dataset_version_number=4...\n"
     ]
    },
    {
     "name": "stderr",
     "output_type": "stream",
     "text": [
      "100%|██████████| 778M/778M [00:38<00:00, 21.0MB/s] "
     ]
    },
    {
     "name": "stdout",
     "output_type": "stream",
     "text": [
      "Extracting files...\n"
     ]
    },
    {
     "name": "stderr",
     "output_type": "stream",
     "text": [
      "\n"
     ]
    },
    {
     "name": "stdout",
     "output_type": "stream",
     "text": [
      "Path to dataset files: /Users/benmurarotto/.cache/kagglehub/datasets/linchundan/fundusimage1000/versions/4\n"
     ]
    }
   ],
   "source": [
    "import kagglehub\n",
    "\n",
    "path = kagglehub.dataset_download(\"linchundan/fundusimage1000\")\n",
    "\n",
    "print(\"Path to dataset files:\", path)\n"
   ]
  },
  {
   "cell_type": "code",
   "execution_count": null,
   "id": "f291ab44",
   "metadata": {},
   "outputs": [],
   "source": []
  },
  {
   "cell_type": "markdown",
   "id": "1fabae31",
   "metadata": {},
   "source": [
    "## Data Loader for OCTDataset\n",
    "from reference code"
   ]
  },
  {
   "cell_type": "code",
   "execution_count": 4,
   "id": "d8ab7f94",
   "metadata": {},
   "outputs": [
    {
     "name": "stdout",
     "output_type": "stream",
     "text": [
      "/media/benmurarotto/BensFiles/Dev/GitRepos/deep-learning-alzheimers/notebooks\n",
      "['../data/[[[OCT RAW FOR DRYAD]]][2020-01JAN-16]', '../data/[[[OCT RAW FOR DRYAD]]][2020-01JAN-16]/CO100', '../data/[[[OCT RAW FOR DRYAD]]][2020-01JAN-16]/AD057', '../data/[[[OCT RAW FOR DRYAD]]][2020-01JAN-16]/AD362', '../data/[[[OCT RAW FOR DRYAD]]][2020-01JAN-16]/AD387', '../data/[[[OCT RAW FOR DRYAD]]][2020-01JAN-16]/AD414', '../data/[[[OCT RAW FOR DRYAD]]][2020-01JAN-16]/AD439', '../data/[[[OCT RAW FOR DRYAD]]][2020-01JAN-16]/AD443', '../data/[[[OCT RAW FOR DRYAD]]][2020-01JAN-16]/AD459', '../data/[[[OCT RAW FOR DRYAD]]][2020-01JAN-16]/AD508', '../data/[[[OCT RAW FOR DRYAD]]][2020-01JAN-16]/AD613', '../data/[[[OCT RAW FOR DRYAD]]][2020-01JAN-16]/AD620', '../data/[[[OCT RAW FOR DRYAD]]][2020-01JAN-16]/AD647', '../data/[[[OCT RAW FOR DRYAD]]][2020-01JAN-16]/AD727', '../data/[[[OCT RAW FOR DRYAD]]][2020-01JAN-16]/AD786', '../data/[[[OCT RAW FOR DRYAD]]][2020-01JAN-16]/AD807', '../data/[[[OCT RAW FOR DRYAD]]][2020-01JAN-16]/AQ599', '../data/[[[OCT RAW FOR DRYAD]]][2020-01JAN-16]/AQ730', '../data/[[[OCT RAW FOR DRYAD]]][2020-01JAN-16]/AQ795', '../data/[[[OCT RAW FOR DRYAD]]][2020-01JAN-16]/CO015', '../data/[[[OCT RAW FOR DRYAD]]][2020-01JAN-16]/CO091', '../data/[[[OCT RAW FOR DRYAD]]][2020-01JAN-16]/CO127', '../data/[[[OCT RAW FOR DRYAD]]][2020-01JAN-16]/CO267', '../data/[[[OCT RAW FOR DRYAD]]][2020-01JAN-16]/CO443', '../data/[[[OCT RAW FOR DRYAD]]][2020-01JAN-16]/CO578', '../data/[[[OCT RAW FOR DRYAD]]][2020-01JAN-16]/CO638', '../data/[[[OCT RAW FOR DRYAD]]][2020-01JAN-16]/CO787', '../data/[[[OCT RAW FOR DRYAD]]][2020-01JAN-16]/CO839', '../data/[[[OCT RAW FOR DRYAD]]][2020-01JAN-16]/CO928', '../data/[[[OCT RAW FOR DRYAD]]][2020-01JAN-16]/CO942', '../data/[[[OCT RAW FOR DRYAD]]][2020-01JAN-16]/CO949', '../data/[[[OCT RAW FOR DRYAD]]][2020-01JAN-16]/CO952', '../data/[[[OCT RAW FOR DRYAD]]][2020-01JAN-16]/YA209', '../data/[[[OCT RAW FOR DRYAD]]][2020-01JAN-16]/YA211', '../data/[[[OCT RAW FOR DRYAD]]][2020-01JAN-16]/YA226', '../data/[[[OCT RAW FOR DRYAD]]][2020-01JAN-16]/YA226_for_Experiment_2', '../data/[[[OCT RAW FOR DRYAD]]][2020-01JAN-16]/YA246', '../data/[[[OCT RAW FOR DRYAD]]][2020-01JAN-16]/YA246_for_Experiment_2', '../data/[[[OCT RAW FOR DRYAD]]][2020-01JAN-16]/YA315', '../data/[[[OCT RAW FOR DRYAD]]][2020-01JAN-16]/YA425_for_Experiment_2', '../data/[[[OCT RAW FOR DRYAD]]][2020-01JAN-16]/YA604', '../data/[[[OCT RAW FOR DRYAD]]][2020-01JAN-16]/YA714', '../data/[[[OCT RAW FOR DRYAD]]][2020-01JAN-16]/YA714_for_Experiment_2', '../data/[[[OCT RAW FOR DRYAD]]][2020-01JAN-16]/YA976', '../data/[[[OCT RAW FOR DRYAD]]][2020-01JAN-16]/_PROCESSING_EXAMPLE01']\n"
     ]
    },
    {
     "ename": "AttributeError",
     "evalue": "'NoneType' object has no attribute 'astype'",
     "output_type": "error",
     "traceback": [
      "\u001b[0;31m---------------------------------------------------------------------------\u001b[0m",
      "\u001b[0;31mAttributeError\u001b[0m                            Traceback (most recent call last)",
      "Cell \u001b[0;32mIn[4], line 94\u001b[0m\n\u001b[1;32m     91\u001b[0m     \u001b[38;5;28;01mreturn\u001b[39;00m np\u001b[38;5;241m.\u001b[39masarray(octs), np\u001b[38;5;241m.\u001b[39masarray(oct_label), addresses\n\u001b[1;32m     93\u001b[0m \u001b[38;5;28;01mif\u001b[39;00m \u001b[38;5;18m__name__\u001b[39m \u001b[38;5;241m==\u001b[39m \u001b[38;5;124m'\u001b[39m\u001b[38;5;124m__main__\u001b[39m\u001b[38;5;124m'\u001b[39m:\n\u001b[0;32m---> 94\u001b[0m     x, y, _ \u001b[38;5;241m=\u001b[39m \u001b[43mread_data\u001b[49m\u001b[43m(\u001b[49m\u001b[43mimage_size\u001b[49m\u001b[38;5;241;43m=\u001b[39;49m\u001b[43m(\u001b[49m\u001b[38;5;241;43m224\u001b[39;49m\u001b[43m,\u001b[49m\u001b[43m \u001b[49m\u001b[38;5;241;43m224\u001b[39;49m\u001b[43m,\u001b[49m\u001b[43m \u001b[49m\u001b[38;5;241;43m3\u001b[39;49m\u001b[43m)\u001b[49m\u001b[43m,\u001b[49m\u001b[43m \u001b[49m\u001b[43maddress\u001b[49m\u001b[38;5;241;43m=\u001b[39;49m\u001b[43mPATH_TO_DATA\u001b[49m\u001b[43m,\u001b[49m\u001b[43m \u001b[49m\u001b[43mdebug\u001b[49m\u001b[38;5;241;43m=\u001b[39;49m\u001b[38;5;28;43;01mFalse\u001b[39;49;00m\u001b[43m)\u001b[49m\n\u001b[1;32m     95\u001b[0m     \u001b[38;5;28;01mfor\u001b[39;00m i \u001b[38;5;129;01min\u001b[39;00m \u001b[38;5;28mrange\u001b[39m(x\u001b[38;5;241m.\u001b[39mshape[\u001b[38;5;241m0\u001b[39m]):\n\u001b[1;32m     96\u001b[0m         \u001b[38;5;28;01mif\u001b[39;00m y[i] \u001b[38;5;241m==\u001b[39m \u001b[38;5;241m0\u001b[39m:\n",
      "Cell \u001b[0;32mIn[4], line 51\u001b[0m, in \u001b[0;36mread_data\u001b[0;34m(image_size, address, flip, debug)\u001b[0m\n\u001b[1;32m     48\u001b[0m \u001b[38;5;28;01mfor\u001b[39;00m _file \u001b[38;5;129;01min\u001b[39;00m file_list:\n\u001b[1;32m     49\u001b[0m     \u001b[38;5;66;03m#if (_file[-4:] == '.tif') or (_file[-4:] == '.JPG'):\u001b[39;00m\n\u001b[1;32m     50\u001b[0m     \u001b[38;5;28;01mif\u001b[39;00m (_file[\u001b[38;5;241m-\u001b[39m\u001b[38;5;241m4\u001b[39m:] \u001b[38;5;241m==\u001b[39m \u001b[38;5;124m'\u001b[39m\u001b[38;5;124m.png\u001b[39m\u001b[38;5;124m'\u001b[39m) \u001b[38;5;129;01mor\u001b[39;00m (_file[\u001b[38;5;241m-\u001b[39m\u001b[38;5;241m4\u001b[39m:] \u001b[38;5;241m==\u001b[39m \u001b[38;5;124m'\u001b[39m\u001b[38;5;124m.JPG\u001b[39m\u001b[38;5;124m'\u001b[39m) \u001b[38;5;129;01mor\u001b[39;00m (_file[\u001b[38;5;241m-\u001b[39m\u001b[38;5;241m5\u001b[39m:] \u001b[38;5;241m==\u001b[39m \u001b[38;5;124m'\u001b[39m\u001b[38;5;124m.jpeg\u001b[39m\u001b[38;5;124m'\u001b[39m) \u001b[38;5;129;01mor\u001b[39;00m (_file[\u001b[38;5;241m-\u001b[39m\u001b[38;5;241m4\u001b[39m:] \u001b[38;5;241m==\u001b[39m \u001b[38;5;124m'\u001b[39m\u001b[38;5;124m.img\u001b[39m\u001b[38;5;124m'\u001b[39m): \u001b[38;5;66;03m## aded this extra part for img files\u001b[39;00m\n\u001b[0;32m---> 51\u001b[0m         oct_image \u001b[38;5;241m=\u001b[39m \u001b[43mcv2\u001b[49m\u001b[38;5;241;43m.\u001b[39;49m\u001b[43mimread\u001b[49m\u001b[43m(\u001b[49m\u001b[43mos\u001b[49m\u001b[38;5;241;43m.\u001b[39;49m\u001b[43mpath\u001b[49m\u001b[38;5;241;43m.\u001b[39;49m\u001b[43mjoin\u001b[49m\u001b[43m(\u001b[49m\u001b[43mos\u001b[49m\u001b[38;5;241;43m.\u001b[39;49m\u001b[43mgetcwd\u001b[49m\u001b[43m(\u001b[49m\u001b[43m)\u001b[49m\u001b[43m,\u001b[49m\u001b[43m \u001b[49m\u001b[43m_folder\u001b[49m\u001b[43m,\u001b[49m\u001b[43m \u001b[49m\u001b[43m_file\u001b[49m\u001b[43m)\u001b[49m\u001b[43m)\u001b[49m\u001b[38;5;241;43m.\u001b[39;49m\u001b[43mastype\u001b[49m(\u001b[38;5;124m'\u001b[39m\u001b[38;5;124mfloat64\u001b[39m\u001b[38;5;124m'\u001b[39m)\n\u001b[1;32m     52\u001b[0m         addresses\u001b[38;5;241m.\u001b[39mappend(os\u001b[38;5;241m.\u001b[39mpath\u001b[38;5;241m.\u001b[39mjoin(os\u001b[38;5;241m.\u001b[39mgetcwd(), _folder, _file))\n\u001b[1;32m     53\u001b[0m         oct_image \u001b[38;5;241m/\u001b[39m\u001b[38;5;241m=\u001b[39m np\u001b[38;5;241m.\u001b[39mmax(oct_image)\n",
      "\u001b[0;31mAttributeError\u001b[0m: 'NoneType' object has no attribute 'astype'"
     ]
    }
   ],
   "source": [
    "import os\n",
    "import numpy as np\n",
    "\n",
    "import cv2\n",
    "import nibabel as nib\n",
    "from skimage import transform\n",
    "\n",
    "print(os.getcwd())\n",
    "\n",
    "PATH_TO_DATA = \"../data/[[[OCT RAW FOR DRYAD]]][2020-01JAN-16]\" \n",
    "\n",
    "def read_data(image_size=(50, 50, 1), address='./images', flip=False, debug=False):\n",
    "    folder_list = [item[0] for item in os.walk(address)]\n",
    "    print(folder_list)\n",
    "    folder_list = folder_list[1:]\n",
    "    \n",
    "    if address[-4:] == '.npz':\n",
    "        data = np.load(address)\n",
    "        images = np.vstack((data['train_images'], data['val_images'], data['test_images']))\n",
    "        labels = np.vstack((data['train_labels'], data['val_labels'], data['test_labels']))\n",
    "        octs = []\n",
    "        oct_label = []\n",
    "        for i, d in enumerate(images):\n",
    "            d_ = d.astype('float')\n",
    "            d = d.astype('float')\n",
    "            if len(d_.shape) == 2:\n",
    "                d_ = np.tile(np.expand_dims(d_, 2), 3)\n",
    "                d = np.tile(np.expand_dims(d, 2), 3)\n",
    "            d_[:, :, 2] = d[:, :, 0]\n",
    "            d_[:, :, 0] = d[:, :, 2]\n",
    "            d_ /= np.max(d_)\n",
    "            oct_image_standard_size = transform.resize(d_, image_size, order=1, preserve_range=True)\n",
    "            octs.append(oct_image_standard_size)\n",
    "            if labels[i] == 0:\n",
    "                oct_label.append(0)\n",
    "            else:\n",
    "                oct_label.append(1)\n",
    "        print(\"Fraction of AD images:\", sum(oct_label)/len(oct_label))\n",
    "    \n",
    "        return np.asarray(octs), np.asarray(oct_label), address\n",
    "    \n",
    "    octs = []\n",
    "    oct_label = []\n",
    "    addresses = []\n",
    "    label_counter = 0\n",
    "    for _folder in folder_list:\n",
    "        file_list = os.listdir(os.path.join(os.getcwd(), _folder))\n",
    "        for _file in file_list:\n",
    "            #if (_file[-4:] == '.tif') or (_file[-4:] == '.JPG'):\n",
    "            if (_file[-4:] == '.png') or (_file[-4:] == '.JPG') or (_file[-5:] == '.jpeg') or (_file[-4:] == '.img'): ## aded this extra part for img files\n",
    "                oct_image = cv2.imread(os.path.join(os.getcwd(), _folder, _file)).astype('float64')\n",
    "                addresses.append(os.path.join(os.getcwd(), _folder, _file))\n",
    "                oct_image /= np.max(oct_image)\n",
    "                \n",
    "                oct_image_standard_size = np.zeros(image_size)\n",
    "                larger_side = np.argmax(oct_image.shape)\n",
    "                smaller_side = 1-larger_side\n",
    "                scaling_factor = image_size[0] / oct_image.shape[larger_side]\n",
    "                if larger_side == 0:\n",
    "                    image_ = transform.resize(oct_image, (image_size[0], int(scaling_factor*oct_image.shape[smaller_side]), image_size[2]), order=1, preserve_range=True)\n",
    "                else:\n",
    "                    image_ = transform.resize(oct_image, (int(scaling_factor*oct_image.shape[smaller_side]), image_size[1], image_size[2]), order=1, preserve_range=True)\n",
    "                for i in range(image_.shape[0]):\n",
    "                    for j in range(image_.shape[1]):\n",
    "                        oct_image_standard_size[i, j, :] = image_[i, j, :]\n",
    "                if address.find('OCTID') != -1:\n",
    "                    oct_image_standard_size = transform.rotate(oct_image_standard_size, 270)\n",
    "                \n",
    "                octs.append(oct_image_standard_size)\n",
    "                if flip:\n",
    "                    oct_image_flipped = cv2.flip(oct_image_standard_size, 1).reshape(image_size)\n",
    "                    octs.append(oct_image_flipped)\n",
    "                \n",
    "                if _folder.find('hc') != -1:\n",
    "                    oct_label.append(0)\n",
    "                    if flip:\n",
    "                        oct_label.append(0)\n",
    "                else:\n",
    "                    oct_label.append(1)\n",
    "                    if flip:\n",
    "                        oct_label.append(1)\n",
    "                \n",
    "                if debug:\n",
    "                    print(_file)\n",
    "                \n",
    "                \n",
    "    label_counter = 2\n",
    "    \n",
    "    print(\"Fraction of AD images:\", sum(oct_label)/len(oct_label))\n",
    "    \n",
    "    return np.asarray(octs), np.asarray(oct_label), addresses\n",
    "    \n",
    "if __name__ == '__main__':\n",
    "    x, y, _ = read_data(image_size=(224, 224, 3), address=PATH_TO_DATA, debug=False)\n",
    "    for i in range(x.shape[0]):\n",
    "        if y[i] == 0:\n",
    "            cv2.imwrite('./oct_data/hc/data_'+str(i)+'.png', 255*x[i])\n",
    "        else:\n",
    "            cv2.imwrite('./oct_data/ad/data_'+str(i)+'.png', 255*x[i])\n"
   ]
  },
  {
   "cell_type": "code",
   "execution_count": 2,
   "id": "194418f4",
   "metadata": {},
   "outputs": [
    {
     "name": "stdout",
     "output_type": "stream",
     "text": [
      "(1, 224, 224, 3)\n"
     ]
    }
   ],
   "source": [
    "print(x.shape)"
   ]
  },
  {
   "cell_type": "code",
   "execution_count": 3,
   "id": "b04db163",
   "metadata": {},
   "outputs": [
    {
     "name": "stderr",
     "output_type": "stream",
     "text": [
      "2025-08-01 10:44:09.491517: E external/local_xla/xla/stream_executor/cuda/cuda_fft.cc:477] Unable to register cuFFT factory: Attempting to register factory for plugin cuFFT when one has already been registered\n",
      "WARNING: All log messages before absl::InitializeLog() is called are written to STDERR\n",
      "E0000 00:00:1754009049.511800    9494 cuda_dnn.cc:8310] Unable to register cuDNN factory: Attempting to register factory for plugin cuDNN when one has already been registered\n",
      "E0000 00:00:1754009049.516863    9494 cuda_blas.cc:1418] Unable to register cuBLAS factory: Attempting to register factory for plugin cuBLAS when one has already been registered\n"
     ]
    },
    {
     "name": "stdout",
     "output_type": "stream",
     "text": [
      "GPU Available:  [PhysicalDevice(name='/physical_device:GPU:0', device_type='GPU')]\n"
     ]
    }
   ],
   "source": [
    "import tensorflow as tf\n",
    "print(\"GPU Available: \", tf.config.list_physical_devices('GPU')) ### checking GPU / CUDA compat"
   ]
  },
  {
   "cell_type": "code",
   "execution_count": null,
   "id": "60d661de",
   "metadata": {},
   "outputs": [],
   "source": [
    "total_num_images=len(image_paths)\n",
    "epochs = 20\n",
    "batch_size = 2 "
   ]
  }
 ],
 "metadata": {
  "kernelspec": {
   "display_name": "cosc591",
   "language": "python",
   "name": "python3"
  },
  "language_info": {
   "codemirror_mode": {
    "name": "ipython",
    "version": 3
   },
   "file_extension": ".py",
   "mimetype": "text/x-python",
   "name": "python",
   "nbconvert_exporter": "python",
   "pygments_lexer": "ipython3",
   "version": "3.10.0"
  }
 },
 "nbformat": 4,
 "nbformat_minor": 5
}
